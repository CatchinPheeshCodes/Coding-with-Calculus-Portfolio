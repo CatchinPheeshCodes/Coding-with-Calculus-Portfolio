{
 "cells": [
  {
   "cell_type": "markdown",
   "id": "bbc9c62b-a3d9-4103-b55d-ee1ceaf641ed",
   "metadata": {},
   "source": [
    "### **Travis Williams - trwi4612**"
   ]
  },
  {
   "cell_type": "markdown",
   "id": "a712f7ab-b8c5-4269-8587-0222bab8ae7b",
   "metadata": {},
   "source": [
    "## Question 1 - Reading Math Activity Summary\n",
    "\n",
    "This activity provided a lot of insight that has always been missing in previous math courses that I've taken throughout my academic career.  Something that I've learned recently, and experienced directly with our Discrete Structures course, is that complex problems are best solved by breaking them down into simpler problems.  This activity highlights that idea.  We're presented with two linear equations and must solve them, such that Q is minimized.  That verbiage alone seems intimidating enough to quit while we're ahead.  We have two equations to solve with one solution?  How am I supposed to derive one solution for Q, with two equations?  There are so many questions that you can ask in an effort to convince yourself that it simply can't be done. <br>\n",
    "\n",
    "The coin changing idea was a great example of how problems may really be simpler than they appear at first glance.  When you take this approach and apply it to the original problem, the pieces come together easily.  We were posed with two questions:\n",
    "1. How long will it take to solve this? My initial assessment was 10-15 minutes.\n",
    "2. What resources would I use?  Google was my answer. <br>\n",
    "\n",
    "As it turns out, this problem can be solved in one minute and takes much less time if you emplore a bit of intuition before spending time searching the internet for an approach!  It's really simple - start with the largest denominator and work down from there.  If we're asked to maximize Q, start with the smallest denominator and work up from there. <br>\n",
    "\n",
    "This activity, and the idea of breaking a more complex problem into smaller problems that are easier to understand, reminds me a lot of dynamic programming.  The coin changing problem is a classic example of how dynamic programming algorithms can be used to achieve this goal. The algorithm that solves the coin changing problem used this exact strategy.  The original problem was to minimize the number of coins needed to provide change for a predetermined monetary value.  We broke the original problem down into subproblems and used those solutions to come up with the final answer.  \n",
    "\n",
    "This fundamental idea of essentially ignoring the larger problem as a whole in an attempt to chip away at the subproblems or logic that may help you realize the final solution seems so important.  It has really changed the way that I approach math in general, and makes the process of solving a problem much more enjoyable to work through.  I do think that it's something to be reminded of, perhaps at the beginning of any math course.  The language and symbology of mathematics can seem too complex to comprehend.  I remember the first time that I saw a summation.  I closed my book and said to myself, 'no, we're not going there.'  But when you break down the components, it is actually quite simple to understand and gives you an opportunity to appreciate how truly eloquent mathematical expressions can be.\n"
   ]
  },
  {
   "cell_type": "code",
   "execution_count": 30,
   "id": "1e1570f1-ebd9-4cb2-aa79-d1f4ab7b19f8",
   "metadata": {},
   "outputs": [],
   "source": [
    "def SIR(s_start, i_start, r_start):\n",
    "    #Initializations\n",
    "    t = 0 #current day\n",
    "    s, i, r = s_start, i_start, r_start #initial proportions for susceptible, infected, recovered\n",
    "    delta_t = 1 #time delta.\n",
    "    print(t, s, i, r)\n",
    "\n",
    "    #loop through SIR calculations 3 times\n",
    "    for k in range(3):\n",
    "        #calculate rate of change for SIR per step.\n",
    "        s_prime = -0.00001 * s * i \n",
    "        i_prime = 0.00001 * s * i - i / 14\n",
    "        r_prime = (i / 14) \n",
    "\n",
    "        #calculate deltas for SIRD per step.\n",
    "        delta_s = s_prime * delta_t\n",
    "        delta_i = i_prime * delta_t\n",
    "        delta_r = r_prime * delta_t \n",
    "\n",
    "        #set new initial values for next iteration.\n",
    "        t = t + delta_t\n",
    "        s = s + delta_s\n",
    "        i = i + delta_i\n",
    "        r = r + delta_r\n",
    "        print(t, s, i, r)\n",
    "\n",
    "    return"
   ]
  },
  {
   "cell_type": "code",
   "execution_count": 31,
   "id": "a8aeaa7f-facd-4a46-979b-b97e6958cbb9",
   "metadata": {},
   "outputs": [
    {
     "name": "stdout",
     "output_type": "stream",
     "text": [
      "0 45400 2100 2500\n",
      "1 44446.6 2903.4 2650.0\n",
      "2 43156.137415599995 3986.4768701142857 2857.385714285714\n",
      "3 41435.72797949237 5422.13795835661 3142.1340621510203\n"
     ]
    }
   ],
   "source": [
    "SIR(45400, 2100, 2500)\n"
   ]
  },
  {
   "cell_type": "markdown",
   "id": "ec6fe6dd-e830-4cd6-a2eb-7d8ecdfdbba7",
   "metadata": {},
   "source": [
    "## Question 2 - 1.1 #1- #6 \n",
    "\n",
    "1. Infections hit their peak around day 13-14.  The top of the curve occurs almost right in the middle of day 10 & day 20 on the x axis. of the graph.\n",
    "2. Initially, there are about 42,000 people that are susceptible.  It takes about 15 days for the susceptible population to be cut in half.\n",
    "3. It takes about 30 days for 25,000 people to recover.  Eventually, around 45,000 people recover.  I looked at the recovery chart to find this information.\n",
    "4. Around day 5, the size of the infected population is increasing most rapidly.  On the infected graph, this is where the upward slope of the curve is steepest. The infected population decreases most rapidly around day 18.  This is where the downward slope of the curve is steepest.\n",
    "5. During the first 20 days, around 24,000 people caught the illness.  In the beginning, around 42,000 people were susceptible.  Around day 20, 18,000 people remained susceptible.  Every time a new infection occurs, the susceptible population decreases by one.  So we can subtract the susceptible population at day 20 from the original susceptible population to determine how many new infections occured within the first 20 days.\n",
    "6. The graph of S was stretched in the horizontal direction when I superimposed the graph for R on top of it.  S originally only covers a 50 day time period, but the time required to graph R more accurately is 100 days.  The vertical values for population were unchanged.  This makes sense.  Naturally, it takes a longer period of time to recover from an illness than it does to become infected with an illness.  So the graph for the recovered population must account for a longer period of time. "
   ]
  },
  {
   "cell_type": "markdown",
   "id": "f4a21205-6a20-408f-a62a-e1cc30b27368",
   "metadata": {},
   "source": [
    "## Question 3 - 1.1 #7\n",
    "\n",
    "Initial susceptible population = 20,000. $S^\\prime = -470$ <br>\n",
    "1. $t=10$. Formula: $S=S+S^\\prime \\times t$. $S=20,000+(-470 \\times 10)=15,300$  <br> Therefore, the susceptible population is 15,300 after 10 days.\n",
    "2. We can divide the initial susceptible population by $S^\\prime$. $20,000/470 = 42.5531915 = t$. When we plug this into the rate equation, we get $S=20,000+(-470 \\times 42.5531915) = 0$. Therefore, it would take 42.5531915 days for the susceptible population to reach 0.\n",
    "3. There are 3 days between Sunday and Wednesday, therefore $t=-3$. $S=20,000+(-470 \\times -3)=21,410$. The susceptible population on the previous Sunday was 21,410.\n",
    "4. We can take the difference between 30,000 and 20,000 divided by $S^\\prime$ to find t. $10,000\\div 470$ is about 21 days. Coincidentally, there are 7 days in a week so the day in which the susceptible population was 30,000 was also a Wednesday."
   ]
  },
  {
   "cell_type": "markdown",
   "id": "9fa1ee3b-7272-4447-98fd-9979dd9e6e30",
   "metadata": {},
   "source": [
    "## Question 4 - 1.1 #19\n",
    "\n",
    "1. The new transmission coefficient would be $a \\div 2$, or $a \\times \\frac{1}{2}$.\n",
    "2. The current transmission coefficient is $a=0.00001$.  If quarantine cuts the chance of falling ill in half, our new transmission coefficient is $a=0.000005$. $S=\\frac{200000}{14}=14,285.7143$.  \n",
    "3. The initial susceptible population of 45,400 is above the threshold of ~14,285.  Therefore, quarantine does not eliminate the epidemic.\n",
    "4. In order to guarantee that I never goes up, the transmission coefficient must be small enough such that the threshold is greater than 45,400.  If $a=0.0000015$, then $S=47,619.0476$.  Therefore, if $a<=0.0000015$, I will never go up.\n",
    "5. We've shown that the transmission rate can be no larger than 0.0000015 in order to keep I from going up.  That is a reduction of $\\frac{3}{20}$ in a chance that a susceptible will fall ill, which falls between $\\frac{1}{6}$ and $\\frac{1}{7}$.  If we reduce the chance that a susceptible will fall ill by $\\frac{1}{7}$, we can guarantee that I never goes up.\n"
   ]
  },
  {
   "cell_type": "markdown",
   "id": "f6cd97e7-9246-4643-9840-634930bbfa1d",
   "metadata": {},
   "source": [
    "## Question 5 - 1.1 #20\n",
    "\n",
    "1. Someone who catches this illness is sick for 12.5 days.  $R^\\prime = bI$. $\\frac{1}{b} =$ # days someone who is infected remains ill.  $b=0.8$.  $\\frac{1}{0.8} = 12.5$.\n",
    "2. $a = 0.00002$. $0.00002S-\\frac{1}{12.5} = 0$. $S=\\frac{0.08}{0.00002}=4,000$.  The threshold in order for the illness to take hold is a susceptible population of 4,000.\n",
    "3. $I=100$. $I^\\prime=0.08I$. $I^\\prime=0.08\\times100 = 8$.  8 people will recover in the next 24 hours.\n",
    "4. If 30 new cases appear in the next 24 hours, the susceptible population will be reduced by 30. Therefore, $S^\\prime=-30$.\n",
    "5. We can use the rate equation $S^\\prime=-0.00002SI$ to solve this.  $S^prime=-30$ and $I=100$.  $-30=-0.00002\\times S\\times100$. $1,500,000=100S$. $S=15,000$.  The current susceptible population is 15,000."
   ]
  },
  {
   "cell_type": "markdown",
   "id": "c9a9300b-9776-405b-b638-0a554afddbef",
   "metadata": {},
   "source": [
    "## Question 6 - 1.1 #21\n",
    "$S^\\prime=-.003SI,$ <br>\n",
    "$I^\\prime=.003SI-.25I,$ <br>\n",
    "$R^\\prime=.25I$ <br>\n",
    "\n",
    "$a=0.003$.  $0.003S-\\frac{1}{4}=0$. $S=\\frac{0.25}{0.003}=83.3$. Therefore, the susceptible population must be under 84 in order for this illness to fade away."
   ]
  },
  {
   "cell_type": "markdown",
   "id": "45ab5632-972d-4d9c-8dd9-e8ec48223c37",
   "metadata": {},
   "source": [
    "## Question 7 - 1.1 #22\n",
    "1. The general equation for the threshold population, where ST = the threshold for the susceptible population, a = the transmission coefficient and b = the recovery coefficient is $ST=\\frac{b}{a}$.\n",
    "2. The illness with a shorter recovery coefficient, which represents the time that someone is ill, will have a lower threshold.  If the time to recover is shorter, there would be less exposure to a susceptible population.  Therefore, the threshold for the illness to take hold is lower."
   ]
  },
  {
   "cell_type": "code",
   "execution_count": null,
   "id": "14f72196-d1fc-4cdf-b7d8-70d50fecfd85",
   "metadata": {},
   "outputs": [],
   "source": []
  }
 ],
 "metadata": {
  "kernelspec": {
   "display_name": "Python 3 (ipykernel)",
   "language": "python",
   "name": "python3"
  },
  "language_info": {
   "codemirror_mode": {
    "name": "ipython",
    "version": 3
   },
   "file_extension": ".py",
   "mimetype": "text/x-python",
   "name": "python",
   "nbconvert_exporter": "python",
   "pygments_lexer": "ipython3",
   "version": "3.12.5"
  }
 },
 "nbformat": 4,
 "nbformat_minor": 5
}
